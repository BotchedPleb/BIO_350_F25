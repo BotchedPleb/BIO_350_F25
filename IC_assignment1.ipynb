{
 "cells": [
  {
   "cell_type": "markdown",
   "id": "7de24862",
   "metadata": {},
   "source": [
    "Make a definition for a difference equation"
   ]
  },
  {
   "cell_type": "markdown",
   "id": "05e994df",
   "metadata": {},
   "source": []
  },
  {
   "cell_type": "code",
   "execution_count": null,
   "id": "668a40eb",
   "metadata": {},
   "outputs": [],
   "source": [
    "def N_interative(N_0, p, number_iterations):\n",
    "    N_values = [N_0] #list of saved values\n",
    "    current_N = N_0\n",
    "    for _ in range(number_iterations):\n",
    "        current_N = current_N + p\n",
    "        N_values.append(current_N)\n",
    "    return N_values"
   ]
  }
 ],
 "metadata": {
  "language_info": {
   "name": "python"
  }
 },
 "nbformat": 4,
 "nbformat_minor": 5
}
