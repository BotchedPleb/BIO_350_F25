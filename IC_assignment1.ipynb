{
 "cells": [
  {
   "cell_type": "markdown",
   "id": "7de24862",
   "metadata": {},
   "source": [
    "Make a definition for a difference equation."
   ]
  },
  {
   "cell_type": "markdown",
   "id": "05e994df",
   "metadata": {},
   "source": [
    "\n"
   ]
  },
  {
   "cell_type": "code",
   "execution_count": 1,
   "id": "668a40eb",
   "metadata": {},
   "outputs": [],
   "source": [
    "def N_interative(N_0, p, number_iterations):\n",
    "    N_values = [N_0] #list of saved values\n",
    "    current_N = N_0\n",
    "    for _ in range(number_iterations):\n",
    "        current_N = current_N + p\n",
    "        N_values.append(current_N)\n",
    "    return N_values"
   ]
  },
  {
   "cell_type": "code",
   "execution_count": 3,
   "id": "e94c976b",
   "metadata": {},
   "outputs": [
    {
     "name": "stdout",
     "output_type": "stream",
     "text": [
      "[0, 2, 4, 6, 8, 10, 12, 14, 16, 18, 20]\n"
     ]
    }
   ],
   "source": [
    "#Call N_interative with N_0 = 0, p=2, and number_iterations = 10\n",
    "result = N_interative(0, 2, 10)\n",
    "# Print the result\n",
    "print(result)"
   ]
  },
  {
   "cell_type": "code",
   "execution_count": null,
   "id": "403e331a",
   "metadata": {},
   "outputs": [],
   "source": []
  }
 ],
 "metadata": {
  "kernelspec": {
   "display_name": "IC_assignments",
   "language": "python",
   "name": "python3"
  },
  "language_info": {
   "codemirror_mode": {
    "name": "ipython",
    "version": 3
   },
   "file_extension": ".py",
   "mimetype": "text/x-python",
   "name": "python",
   "nbconvert_exporter": "python",
   "pygments_lexer": "ipython3",
   "version": "3.13.5"
  }
 },
 "nbformat": 4,
 "nbformat_minor": 5
}
