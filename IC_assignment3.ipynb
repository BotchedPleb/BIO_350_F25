{
 "cells": [
  {
   "cell_type": "markdown",
   "id": "337752a3",
   "metadata": {},
   "source": [
    "Chapter 3 of the Ecology Handbook\n",
    "- Calculating the logistic growth of germinating seed started from 12 plants in a $4m^2$ lot"
   ]
  },
  {
   "cell_type": "code",
   "execution_count": 4,
   "id": "e7e6d15d",
   "metadata": {},
   "outputs": [],
   "source": [
    "import matplotlib.pyplot as plt"
   ]
  },
  {
   "cell_type": "code",
   "execution_count": 1,
   "id": "6d267292",
   "metadata": {},
   "outputs": [
    {
     "ename": "KeyboardInterrupt",
     "evalue": "",
     "output_type": "error",
     "traceback": [
      "\u001b[31m---------------------------------------------------------------------------\u001b[39m",
      "\u001b[31mKeyboardInterrupt\u001b[39m                         Traceback (most recent call last)",
      "\u001b[36mCell\u001b[39m\u001b[36m \u001b[39m\u001b[32mIn[1]\u001b[39m\u001b[32m, line 26\u001b[39m\n\u001b[32m     24\u001b[39m \u001b[38;5;28;01mwhile\u001b[39;00m population_sizes[-\u001b[32m1\u001b[39m] < K:\n\u001b[32m     25\u001b[39m     years += \u001b[32m1\u001b[39m\n\u001b[32m---> \u001b[39m\u001b[32m26\u001b[39m     population_sizes = \u001b[43mlogistic_growth\u001b[49m\u001b[43m(\u001b[49m\u001b[43mN0\u001b[49m\u001b[43m,\u001b[49m\u001b[43m \u001b[49m\u001b[43mK\u001b[49m\u001b[43m,\u001b[49m\u001b[43m \u001b[49m\u001b[43mr\u001b[49m\u001b[43m,\u001b[49m\u001b[43m \u001b[49m\u001b[43myears\u001b[49m\u001b[43m)\u001b[49m\n\u001b[32m     27\u001b[39m \u001b[38;5;28mprint\u001b[39m(\u001b[33mf\u001b[39m\u001b[33m\"\u001b[39m\u001b[33mYears to reach carrying capacity: \u001b[39m\u001b[38;5;132;01m{\u001b[39;00myears\u001b[38;5;132;01m}\u001b[39;00m\u001b[33m\"\u001b[39m)\n\u001b[32m     28\u001b[39m \u001b[38;5;66;03m# Plotting the growth\u001b[39;00m\n",
      "\u001b[36mCell\u001b[39m\u001b[36m \u001b[39m\u001b[32mIn[1]\u001b[39m\u001b[32m, line 8\u001b[39m, in \u001b[36mlogistic_growth\u001b[39m\u001b[34m(N0, K, r, years)\u001b[39m\n\u001b[32m      1\u001b[39m \u001b[38;5;66;03m#In one 2 m × 2 m experimental plot, \u001b[39;00m\n\u001b[32m      2\u001b[39m \u001b[38;5;66;03m#Carrying capacity (K) = 400 plants\u001b[39;00m\n\u001b[32m      3\u001b[39m \u001b[38;5;66;03m#Initial population size (N0) = 12 plants, occupying .01m2\u001b[39;00m\n\u001b[32m      4\u001b[39m \u001b[38;5;66;03m#40% of the seeds germinate die each year\u001b[39;00m\n\u001b[32m      5\u001b[39m \u001b[38;5;66;03m#1 seed germinates per year\u001b[39;00m\n\u001b[32m      6\u001b[39m \u001b[38;5;66;03m#how many years to fill the 2m x 2m plot?\u001b[39;00m\n\u001b[32m----> \u001b[39m\u001b[32m8\u001b[39m \u001b[38;5;28;01mdef\u001b[39;00m\u001b[38;5;250m \u001b[39m\u001b[34mlogistic_growth\u001b[39m(N0, K, r, years):\n\u001b[32m      9\u001b[39m     N = N0\n\u001b[32m     10\u001b[39m     population_sizes = [N0]\n",
      "\u001b[31mKeyboardInterrupt\u001b[39m: "
     ]
    }
   ],
   "source": [
    "#In one 2 m × 2 m experimental plot, \n",
    "#Carrying capacity (K) = 400 plants\n",
    "#Initial population size (N0) = 12 plants, occupying .01m2\n",
    "#40% of the seeds germinate die each year\n",
    "#1 seed germinates per year\n",
    "#how many years to fill the 2m x 2m plot?\n",
    "\n",
    "def logistic_growth(N0, K, r, years):\n",
    "    N = N0\n",
    "    population_sizes = [N0]\n",
    "    \n",
    "    for _ in range(years):\n",
    "        N = N + r * N * (1 - N / K)\n",
    "        population_sizes.append(N)\n",
    "    \n",
    "    return population_sizes\n",
    "\n",
    "# Parameters\n",
    "N0 = 12  # Initial population size\n",
    "K = 400  # Carrying capacity\n",
    "r = 0.6  # Growth rate (1 seed germinates, 40% die)\n",
    "years = 0\n",
    "population_sizes = logistic_growth(N0, K, r, years)\n",
    "while population_sizes[-1] < K:\n",
    "    years += 1\n",
    "    population_sizes = logistic_growth(N0, K, r, years)\n",
    "print(f\"Years to reach carrying capacity: {years}\")\n",
    "# Plotting the growth\n",
    "plt.plot(population_sizes)\n",
    "plt.xlabel('Years')\n",
    "plt.ylabel('Population Size')\n",
    "plt.title('Logistic Growth of Germinating Seeds')\n",
    "plt.axhline(y=K, color='r', linestyle='--', label='Carrying Capacity (K)')\n",
    "plt.legend()\n",
    "plt.show()"
   ]
  },
  {
   "cell_type": "code",
   "execution_count": null,
   "id": "93bf0702",
   "metadata": {},
   "outputs": [
    {
     "ename": "KeyboardInterrupt",
     "evalue": "",
     "output_type": "error",
     "traceback": [
      "\u001b[31m---------------------------------------------------------------------------\u001b[39m",
      "\u001b[31mKeyboardInterrupt\u001b[39m                         Traceback (most recent call last)",
      "\u001b[36mCell\u001b[39m\u001b[36m \u001b[39m\u001b[32mIn[2]\u001b[39m\u001b[32m, line 12\u001b[39m\n\u001b[32m     10\u001b[39m \u001b[38;5;66;03m# Simulate until the population reaches carrying capacity\u001b[39;00m\n\u001b[32m     11\u001b[39m \u001b[38;5;28;01mwhile\u001b[39;00m N < K:\n\u001b[32m---> \u001b[39m\u001b[32m12\u001b[39m     dt = \u001b[43mlogistic_growth\u001b[49m\u001b[43m(\u001b[49m\u001b[43mN\u001b[49m\u001b[43m,\u001b[49m\u001b[43m \u001b[49m\u001b[43mr\u001b[49m\u001b[43m,\u001b[49m\u001b[43m \u001b[49m\u001b[43mK\u001b[49m\u001b[43m)\u001b[49m\n\u001b[32m     13\u001b[39m     population_sizes.append(N)\n\u001b[32m     14\u001b[39m     years += \u001b[32m1\u001b[39m\n",
      "\u001b[36mCell\u001b[39m\u001b[36m \u001b[39m\u001b[32mIn[2]\u001b[39m\u001b[32m, line 1\u001b[39m, in \u001b[36mlogistic_growth\u001b[39m\u001b[34m(N, r, K)\u001b[39m\n\u001b[32m----> \u001b[39m\u001b[32m1\u001b[39m \u001b[38;5;28;01mdef\u001b[39;00m\u001b[38;5;250m \u001b[39m\u001b[34mlogistic_growth\u001b[39m(N, r, K):\n\u001b[32m      2\u001b[39m     \u001b[38;5;28;01mreturn\u001b[39;00m (r * N) * (\u001b[32m1\u001b[39m-(N/K))\n\u001b[32m      3\u001b[39m \u001b[38;5;66;03m# Parameters\u001b[39;00m\n",
      "\u001b[31mKeyboardInterrupt\u001b[39m: "
     ]
    }
   ],
   "source": [
    "def logistic_growth(N, r, K):\n",
    "    return (r * N) * (1-(N/K))\n",
    "# Parameters\n",
    "K = 400  # Carrying capacity\n",
    "N0 = 12  # Initial population size\n",
    "r = 0.6   # Growth rate (1 seed germinates, 40% die, so net growth is 60%)\n",
    "years = 0\n",
    "N = N0\n",
    "population_sizes = [N0]\n",
    "# Simulate until the population reaches carrying capacity\n",
    "while N < K:\n",
    "    N = logistic_growth(N, r, K)\n",
    "    population_sizes.append(N)\n",
    "    years += 1\n",
    "# Print the number of years to reach carrying capacity\n",
    "print(f\"Years to reach carrying capacity: {years}\")\n",
    "# Plot the population growth over time\n",
    "plt.plot(population_sizes)\n",
    "plt.xlabel('Years')\n",
    "plt.ylabel('Population Size')\n",
    "plt.title('Logistic Growth of Germinating Seeds')\n",
    "plt.axhline(y=K, color='r', linestyle='--', label='Carrying Capacity (K)')\n",
    "plt.legend()\n",
    "plt.show()"
   ]
  }
 ],
 "metadata": {
  "kernelspec": {
   "display_name": "base",
   "language": "python",
   "name": "python3"
  },
  "language_info": {
   "codemirror_mode": {
    "name": "ipython",
    "version": 3
   },
   "file_extension": ".py",
   "mimetype": "text/x-python",
   "name": "python",
   "nbconvert_exporter": "python",
   "pygments_lexer": "ipython3",
   "version": "3.13.5"
  }
 },
 "nbformat": 4,
 "nbformat_minor": 5
}
